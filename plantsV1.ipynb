{
  "nbformat": 4,
  "nbformat_minor": 0,
  "metadata": {
    "colab": {
      "name": "Untitled0.ipynb",
      "provenance": [],
      "collapsed_sections": []
    },
    "kernelspec": {
      "name": "python3",
      "display_name": "Python 3"
    },
    "language_info": {
      "name": "python"
    },
    "accelerator": "GPU"
  },
  "cells": [
    {
      "cell_type": "code",
      "execution_count": null,
      "metadata": {
        "id": "NGkWS_FLgE-5"
      },
      "outputs": [],
      "source": [
        "import numpy as np # linear algebra\n",
        "import pandas as pd  # data processing\n",
        "import os #  to interact with files using there paths\n",
        "import cv2\n",
        "from sklearn.datasets import load_files"
      ]
    },
    {
      "cell_type": "code",
      "source": [
        "from google.colab import drive\n",
        "drive.mount('/content/drive',force_remount=True)"
      ],
      "metadata": {
        "colab": {
          "base_uri": "https://localhost:8080/"
        },
        "id": "ZGeC-SPnghmg",
        "outputId": "d3f7071b-244e-4fb2-fea9-13e42c9f4ae0"
      },
      "execution_count": null,
      "outputs": [
        {
          "output_type": "stream",
          "name": "stdout",
          "text": [
            "Mounted at /content/drive\n"
          ]
        }
      ]
    },
    {
      "cell_type": "code",
      "source": [
        "data_dir =  r'drive/MyDrive/folder_image_Morocco_training_image_plants'\n",
        "\n",
        "\n",
        "classes = os.listdir(data_dir) # Get names of classes\n",
        "len(classes)"
      ],
      "metadata": {
        "colab": {
          "base_uri": "https://localhost:8080/"
        },
        "id": "Iaje4HVwgklH",
        "outputId": "56b5a943-a3fb-483a-c688-bd823bc91f6f"
      },
      "execution_count": null,
      "outputs": [
        {
          "output_type": "execute_result",
          "data": {
            "text/plain": [
              "85"
            ]
          },
          "metadata": {},
          "execution_count": 26
        }
      ]
    },
    {
      "cell_type": "code",
      "source": [
        "from tensorflow.keras.preprocessing.image import ImageDataGenerator\n",
        "image_generator = ImageDataGenerator(rescale=1/255, validation_split=0.2)    \n",
        "\n",
        "train_dataset = image_generator.flow_from_directory(batch_size=32,\n",
        "                                                 directory=data_dir,\n",
        "                                                 shuffle=True,\n",
        "                                                 target_size=(200, 200), \n",
        "                                                 subset=\"training\",\n",
        "                                                 class_mode='categorical')\n",
        "\n",
        "validation_dataset = image_generator.flow_from_directory(batch_size=32,\n",
        "                                                 directory=data_dir,\n",
        "                                                 shuffle=True,\n",
        "                                                 target_size=(200, 200), \n",
        "                                                 subset=\"validation\",\n",
        "                                                 class_mode='categorical')"
      ],
      "metadata": {
        "colab": {
          "base_uri": "https://localhost:8080/"
        },
        "id": "CxWensVEgnp0",
        "outputId": "345c5f25-63eb-4118-9331-708a373681d6"
      },
      "execution_count": null,
      "outputs": [
        {
          "output_type": "stream",
          "name": "stdout",
          "text": [
            "Found 18092 images belonging to 85 classes.\n",
            "Found 4503 images belonging to 85 classes.\n"
          ]
        }
      ]
    },
    {
      "cell_type": "code",
      "source": [
        "import tensorflow.keras\n",
        "from tensorflow.keras.models import Sequential\n",
        "from tensorflow.keras.layers import Conv2D, MaxPool2D, Dense, Flatten, Dropout\n",
        "from tensorflow.keras.preprocessing.image import ImageDataGenerator\n",
        "from tensorflow.keras.callbacks import ReduceLROnPlateau"
      ],
      "metadata": {
        "id": "CeratYWXhdXG"
      },
      "execution_count": null,
      "outputs": []
    },
    {
      "cell_type": "code",
      "source": [
        "model = Sequential()\n",
        "\n",
        "model.add(Conv2D(filters=32, kernel_size=(3,3), padding='same', input_shape=(200, 200,3), activation='relu', name='Conv2D_1'))\n",
        "model.add(Conv2D(filters=32, kernel_size=(3,3), activation='relu', name='Conv2D_2'))\n",
        "model.add(MaxPool2D(pool_size=(2,2), name='Maxpool_1'))\n",
        "model.add(Dropout(0.25))\n",
        "\n",
        "model.add(Conv2D(filters=64, kernel_size=(3,3), padding='same', activation='relu', name='Conv2D_3'))\n",
        "model.add(Conv2D(filters=64, kernel_size=(3,3), activation='relu', name='Conv2D_4'))\n",
        "model.add(MaxPool2D(pool_size=(2,2), name='Maxpool_2'))\n",
        "model.add(Dropout(0.25))\n",
        "    \n",
        "model.add(Conv2D(filters=128, kernel_size=(3,3), padding='same', activation='relu', name='Conv2D_5'))\n",
        "model.add(Conv2D(filters=128, kernel_size=(3,3), activation='relu', name='Conv2D_6'))\n",
        "model.add(MaxPool2D(pool_size=(2,2), name='Maxpool_3'))\n",
        "\n",
        "model.add(Flatten())\n",
        "model.add(Dense(units=512, activation='relu', name='Dense_1'))\n",
        "model.add(Dropout(0.5))\n",
        "#model.add(Dense(units=128, activation='relu', name='Dense_2'))\n",
        "model.add(Dense(units=85, activation='softmax', name='Output'))"
      ],
      "metadata": {
        "id": "MAurG9SNhgP_"
      },
      "execution_count": null,
      "outputs": []
    },
    {
      "cell_type": "code",
      "source": [
        "# Getting the summary of the model\n",
        "model.summary()"
      ],
      "metadata": {
        "colab": {
          "base_uri": "https://localhost:8080/"
        },
        "id": "hSPbCskshi0S",
        "outputId": "2691bd72-ebbe-459b-c6fc-d731c85b4c5b"
      },
      "execution_count": null,
      "outputs": [
        {
          "output_type": "stream",
          "name": "stdout",
          "text": [
            "Model: \"sequential_1\"\n",
            "_________________________________________________________________\n",
            " Layer (type)                Output Shape              Param #   \n",
            "=================================================================\n",
            " Conv2D_1 (Conv2D)           (None, 200, 200, 32)      896       \n",
            "                                                                 \n",
            " Conv2D_2 (Conv2D)           (None, 198, 198, 32)      9248      \n",
            "                                                                 \n",
            " Maxpool_1 (MaxPooling2D)    (None, 99, 99, 32)        0         \n",
            "                                                                 \n",
            " dropout_3 (Dropout)         (None, 99, 99, 32)        0         \n",
            "                                                                 \n",
            " Conv2D_3 (Conv2D)           (None, 99, 99, 64)        18496     \n",
            "                                                                 \n",
            " Conv2D_4 (Conv2D)           (None, 97, 97, 64)        36928     \n",
            "                                                                 \n",
            " Maxpool_2 (MaxPooling2D)    (None, 48, 48, 64)        0         \n",
            "                                                                 \n",
            " dropout_4 (Dropout)         (None, 48, 48, 64)        0         \n",
            "                                                                 \n",
            " Conv2D_5 (Conv2D)           (None, 48, 48, 128)       73856     \n",
            "                                                                 \n",
            " Conv2D_6 (Conv2D)           (None, 46, 46, 128)       147584    \n",
            "                                                                 \n",
            " Maxpool_3 (MaxPooling2D)    (None, 23, 23, 128)       0         \n",
            "                                                                 \n",
            " flatten_1 (Flatten)         (None, 67712)             0         \n",
            "                                                                 \n",
            " Dense_1 (Dense)             (None, 512)               34669056  \n",
            "                                                                 \n",
            " dropout_5 (Dropout)         (None, 512)               0         \n",
            "                                                                 \n",
            " Output (Dense)              (None, 85)                43605     \n",
            "                                                                 \n",
            "=================================================================\n",
            "Total params: 34,999,669\n",
            "Trainable params: 34,999,669\n",
            "Non-trainable params: 0\n",
            "_________________________________________________________________\n"
          ]
        }
      ]
    },
    {
      "cell_type": "code",
      "source": [
        "from tensorflow.keras.optimizers import Adam\n",
        "import tensorflow.keras.optimizers as Optimizer\n",
        "model.compile( optimizer=Optimizer.Adam(lr=0.0001),loss='categorical_crossentropy', metrics=['accuracy'])"
      ],
      "metadata": {
        "colab": {
          "base_uri": "https://localhost:8080/"
        },
        "id": "Wv4t0Gxli1nl",
        "outputId": "5772b6eb-096d-479c-d2e7-c7a75629300e"
      },
      "execution_count": null,
      "outputs": [
        {
          "output_type": "stream",
          "name": "stderr",
          "text": [
            "/usr/local/lib/python3.7/dist-packages/keras/optimizer_v2/adam.py:105: UserWarning: The `lr` argument is deprecated, use `learning_rate` instead.\n",
            "  super(Adam, self).__init__(name, **kwargs)\n"
          ]
        }
      ]
    },
    {
      "cell_type": "code",
      "source": [
        "batch_size=128\n",
        "nb_epochs=100\n",
        "model.fit(\n",
        "    train_dataset,\n",
        "    steps_per_epoch = train_dataset.samples // batch_size,\n",
        "    validation_data = validation_dataset, \n",
        "    validation_steps = validation_dataset.samples // batch_size,\n",
        "    epochs = nb_epochs)"
      ],
      "metadata": {
        "colab": {
          "base_uri": "https://localhost:8080/"
        },
        "id": "SXzBQkP-h1yG",
        "outputId": "4642473a-c217-404b-86fc-374950fd5e77"
      },
      "execution_count": null,
      "outputs": [
        {
          "output_type": "stream",
          "name": "stdout",
          "text": [
            "Epoch 1/100\n",
            "141/141 [==============================] - 994s 7s/step - loss: 4.4429 - accuracy: 0.0126 - val_loss: 4.4340 - val_accuracy: 0.0205\n",
            "Epoch 2/100\n",
            "141/141 [==============================] - 739s 5s/step - loss: 4.4000 - accuracy: 0.0225 - val_loss: 4.3580 - val_accuracy: 0.0375\n",
            "Epoch 3/100\n",
            "141/141 [==============================] - 557s 4s/step - loss: 4.2991 - accuracy: 0.0378 - val_loss: 4.2026 - val_accuracy: 0.0679\n",
            "Epoch 4/100\n",
            "141/141 [==============================] - 432s 3s/step - loss: 4.2042 - accuracy: 0.0534 - val_loss: 4.1585 - val_accuracy: 0.0714\n",
            "Epoch 5/100\n",
            "141/141 [==============================] - 324s 2s/step - loss: 4.1186 - accuracy: 0.0670 - val_loss: 4.0991 - val_accuracy: 0.0973\n",
            "Epoch 6/100\n",
            "141/141 [==============================] - 261s 2s/step - loss: 4.0034 - accuracy: 0.0786 - val_loss: 3.9271 - val_accuracy: 0.1089\n",
            "Epoch 7/100\n",
            "141/141 [==============================] - 192s 1s/step - loss: 3.9754 - accuracy: 0.0898 - val_loss: 3.9190 - val_accuracy: 0.1027\n",
            "Epoch 8/100\n",
            "141/141 [==============================] - 159s 1s/step - loss: 3.8993 - accuracy: 0.1028 - val_loss: 3.8231 - val_accuracy: 0.1393\n",
            "Epoch 9/100\n",
            "141/141 [==============================] - 121s 857ms/step - loss: 3.8237 - accuracy: 0.1140 - val_loss: 3.7920 - val_accuracy: 0.1187\n",
            "Epoch 10/100\n",
            "141/141 [==============================] - 109s 774ms/step - loss: 3.7597 - accuracy: 0.1186 - val_loss: 3.7588 - val_accuracy: 0.1473\n",
            "Epoch 11/100\n",
            "141/141 [==============================] - 87s 622ms/step - loss: 3.6287 - accuracy: 0.1605 - val_loss: 3.6863 - val_accuracy: 0.1295\n",
            "Epoch 12/100\n",
            "141/141 [==============================] - 75s 532ms/step - loss: 3.6213 - accuracy: 0.1476 - val_loss: 3.6186 - val_accuracy: 0.1536\n",
            "Epoch 13/100\n",
            "141/141 [==============================] - 67s 476ms/step - loss: 3.4531 - accuracy: 0.1812 - val_loss: 3.5140 - val_accuracy: 0.1688\n",
            "Epoch 14/100\n",
            "141/141 [==============================] - 58s 408ms/step - loss: 3.4114 - accuracy: 0.1906 - val_loss: 3.5274 - val_accuracy: 0.1679\n",
            "Epoch 15/100\n",
            "141/141 [==============================] - 55s 390ms/step - loss: 3.3046 - accuracy: 0.2041 - val_loss: 3.5092 - val_accuracy: 0.1589\n",
            "Epoch 16/100\n",
            "141/141 [==============================] - 50s 357ms/step - loss: 3.1946 - accuracy: 0.2398 - val_loss: 3.4992 - val_accuracy: 0.1723\n",
            "Epoch 17/100\n",
            "141/141 [==============================] - 46s 325ms/step - loss: 3.1001 - accuracy: 0.2613 - val_loss: 3.5116 - val_accuracy: 0.1732\n",
            "Epoch 18/100\n",
            "141/141 [==============================] - 43s 308ms/step - loss: 2.9822 - accuracy: 0.2788 - val_loss: 3.5400 - val_accuracy: 0.1786\n",
            "Epoch 19/100\n",
            "141/141 [==============================] - 43s 304ms/step - loss: 2.8982 - accuracy: 0.2996 - val_loss: 3.6223 - val_accuracy: 0.1643\n",
            "Epoch 20/100\n",
            "141/141 [==============================] - 44s 314ms/step - loss: 2.7826 - accuracy: 0.3300 - val_loss: 3.4701 - val_accuracy: 0.1920\n",
            "Epoch 21/100\n",
            "141/141 [==============================] - 42s 298ms/step - loss: 2.6206 - accuracy: 0.3588 - val_loss: 3.6548 - val_accuracy: 0.1795\n",
            "Epoch 22/100\n",
            "141/141 [==============================] - 40s 285ms/step - loss: 2.4437 - accuracy: 0.4080 - val_loss: 3.6024 - val_accuracy: 0.1821\n",
            "Epoch 23/100\n",
            "141/141 [==============================] - 40s 282ms/step - loss: 2.3758 - accuracy: 0.4173 - val_loss: 3.5943 - val_accuracy: 0.1786\n",
            "Epoch 24/100\n",
            "141/141 [==============================] - 38s 268ms/step - loss: 2.1922 - accuracy: 0.4628 - val_loss: 3.7227 - val_accuracy: 0.1732\n",
            "Epoch 25/100\n",
            "141/141 [==============================] - 38s 268ms/step - loss: 2.0632 - accuracy: 0.4918 - val_loss: 3.8259 - val_accuracy: 0.1821\n",
            "Epoch 26/100\n",
            "141/141 [==============================] - 38s 271ms/step - loss: 1.9550 - accuracy: 0.5091 - val_loss: 3.7520 - val_accuracy: 0.1884\n",
            "Epoch 27/100\n",
            "141/141 [==============================] - 38s 266ms/step - loss: 1.7696 - accuracy: 0.5496 - val_loss: 3.8846 - val_accuracy: 0.1813\n",
            "Epoch 28/100\n",
            "141/141 [==============================] - 38s 266ms/step - loss: 1.6972 - accuracy: 0.5793 - val_loss: 4.0588 - val_accuracy: 0.1679\n",
            "Epoch 29/100\n",
            "141/141 [==============================] - 37s 265ms/step - loss: 1.5676 - accuracy: 0.6106 - val_loss: 4.2746 - val_accuracy: 0.1937\n",
            "Epoch 30/100\n",
            "141/141 [==============================] - 37s 262ms/step - loss: 1.4192 - accuracy: 0.6472 - val_loss: 4.0983 - val_accuracy: 0.1857\n",
            "Epoch 31/100\n",
            "141/141 [==============================] - 38s 266ms/step - loss: 1.3543 - accuracy: 0.6534 - val_loss: 4.1535 - val_accuracy: 0.1991\n",
            "Epoch 32/100\n",
            "141/141 [==============================] - 37s 261ms/step - loss: 1.2320 - accuracy: 0.6817 - val_loss: 4.1361 - val_accuracy: 0.1857\n",
            "Epoch 33/100\n",
            "141/141 [==============================] - 37s 259ms/step - loss: 1.1646 - accuracy: 0.6952 - val_loss: 4.3249 - val_accuracy: 0.1679\n",
            "Epoch 34/100\n",
            "141/141 [==============================] - 37s 261ms/step - loss: 1.0466 - accuracy: 0.7300 - val_loss: 4.3292 - val_accuracy: 0.1786\n",
            "Epoch 35/100\n",
            "141/141 [==============================] - 37s 260ms/step - loss: 0.9259 - accuracy: 0.7513 - val_loss: 4.5385 - val_accuracy: 0.1741\n",
            "Epoch 36/100\n",
            "141/141 [==============================] - 37s 262ms/step - loss: 0.8615 - accuracy: 0.7667 - val_loss: 4.7450 - val_accuracy: 0.1696\n",
            "Epoch 37/100\n",
            "141/141 [==============================] - 37s 261ms/step - loss: 0.8324 - accuracy: 0.7776 - val_loss: 4.4476 - val_accuracy: 0.1866\n",
            "Epoch 38/100\n",
            "141/141 [==============================] - 37s 259ms/step - loss: 0.8055 - accuracy: 0.7916 - val_loss: 4.9368 - val_accuracy: 0.1607\n",
            "Epoch 39/100\n",
            "141/141 [==============================] - 37s 262ms/step - loss: 0.6791 - accuracy: 0.8214 - val_loss: 5.2453 - val_accuracy: 0.1634\n",
            "Epoch 40/100\n",
            "141/141 [==============================] - 37s 260ms/step - loss: 0.6202 - accuracy: 0.8313 - val_loss: 4.9541 - val_accuracy: 0.1804\n",
            "Epoch 41/100\n",
            "141/141 [==============================] - 37s 261ms/step - loss: 0.6059 - accuracy: 0.8380 - val_loss: 5.1422 - val_accuracy: 0.1696\n",
            "Epoch 42/100\n",
            "141/141 [==============================] - 37s 259ms/step - loss: 0.5913 - accuracy: 0.8359 - val_loss: 5.0452 - val_accuracy: 0.1589\n",
            "Epoch 43/100\n",
            "141/141 [==============================] - 37s 261ms/step - loss: 0.5429 - accuracy: 0.8513 - val_loss: 5.2870 - val_accuracy: 0.1768\n",
            "Epoch 44/100\n",
            "141/141 [==============================] - 37s 261ms/step - loss: 0.4748 - accuracy: 0.8690 - val_loss: 5.3888 - val_accuracy: 0.1902\n",
            "Epoch 45/100\n",
            "141/141 [==============================] - 37s 262ms/step - loss: 0.4713 - accuracy: 0.8682 - val_loss: 5.3833 - val_accuracy: 0.1679\n",
            "Epoch 46/100\n",
            "141/141 [==============================] - 37s 260ms/step - loss: 0.4521 - accuracy: 0.8736 - val_loss: 5.3843 - val_accuracy: 0.1759\n",
            "Epoch 47/100\n",
            "141/141 [==============================] - 37s 261ms/step - loss: 0.4381 - accuracy: 0.8781 - val_loss: 5.5525 - val_accuracy: 0.1696\n",
            "Epoch 48/100\n",
            "141/141 [==============================] - 37s 262ms/step - loss: 0.3973 - accuracy: 0.8889 - val_loss: 5.5040 - val_accuracy: 0.1598\n",
            "Epoch 49/100\n",
            "141/141 [==============================] - 37s 260ms/step - loss: 0.3611 - accuracy: 0.8894 - val_loss: 5.6629 - val_accuracy: 0.1732\n",
            "Epoch 50/100\n",
            "141/141 [==============================] - 37s 261ms/step - loss: 0.3478 - accuracy: 0.9027 - val_loss: 5.4975 - val_accuracy: 0.1759\n",
            "Epoch 51/100\n",
            "141/141 [==============================] - 37s 261ms/step - loss: 0.3210 - accuracy: 0.9071 - val_loss: 5.8391 - val_accuracy: 0.1571\n",
            "Epoch 52/100\n",
            "141/141 [==============================] - 37s 263ms/step - loss: 0.3287 - accuracy: 0.9118 - val_loss: 5.5801 - val_accuracy: 0.1804\n",
            "Epoch 53/100\n",
            "141/141 [==============================] - 37s 263ms/step - loss: 0.2816 - accuracy: 0.9182 - val_loss: 5.8721 - val_accuracy: 0.1679\n",
            "Epoch 54/100\n",
            "141/141 [==============================] - 37s 260ms/step - loss: 0.2876 - accuracy: 0.9140 - val_loss: 5.7972 - val_accuracy: 0.1777\n",
            "Epoch 55/100\n",
            "141/141 [==============================] - 37s 261ms/step - loss: 0.2995 - accuracy: 0.9136 - val_loss: 5.7643 - val_accuracy: 0.1705\n",
            "Epoch 56/100\n",
            "141/141 [==============================] - 37s 259ms/step - loss: 0.2610 - accuracy: 0.9238 - val_loss: 6.2989 - val_accuracy: 0.1670\n",
            "Epoch 57/100\n",
            "141/141 [==============================] - 37s 259ms/step - loss: 0.2560 - accuracy: 0.9275 - val_loss: 6.0493 - val_accuracy: 0.1598\n",
            "Epoch 58/100\n",
            "141/141 [==============================] - 37s 258ms/step - loss: 0.2443 - accuracy: 0.9272 - val_loss: 5.8985 - val_accuracy: 0.1821\n",
            "Epoch 59/100\n",
            "141/141 [==============================] - 36s 258ms/step - loss: 0.2425 - accuracy: 0.9330 - val_loss: 6.3770 - val_accuracy: 0.1884\n",
            "Epoch 60/100\n",
            "141/141 [==============================] - 37s 260ms/step - loss: 0.2338 - accuracy: 0.9312 - val_loss: 6.1856 - val_accuracy: 0.1696\n",
            "Epoch 61/100\n",
            "141/141 [==============================] - 37s 261ms/step - loss: 0.2163 - accuracy: 0.9357 - val_loss: 5.9516 - val_accuracy: 0.1768\n",
            "Epoch 62/100\n",
            "141/141 [==============================] - 37s 260ms/step - loss: 0.2365 - accuracy: 0.9322 - val_loss: 5.8158 - val_accuracy: 0.1839\n",
            "Epoch 63/100\n",
            "141/141 [==============================] - 37s 260ms/step - loss: 0.2130 - accuracy: 0.9377 - val_loss: 5.9880 - val_accuracy: 0.1732\n",
            "Epoch 64/100\n",
            "141/141 [==============================] - 37s 259ms/step - loss: 0.1993 - accuracy: 0.9382 - val_loss: 6.3478 - val_accuracy: 0.1643\n",
            "Epoch 65/100\n",
            "141/141 [==============================] - 36s 258ms/step - loss: 0.2040 - accuracy: 0.9392 - val_loss: 6.3716 - val_accuracy: 0.1598\n",
            "Epoch 66/100\n",
            "141/141 [==============================] - 36s 258ms/step - loss: 0.1970 - accuracy: 0.9439 - val_loss: 6.1584 - val_accuracy: 0.1688\n",
            "Epoch 67/100\n",
            "141/141 [==============================] - 36s 258ms/step - loss: 0.2054 - accuracy: 0.9403 - val_loss: 6.1040 - val_accuracy: 0.1768\n",
            "Epoch 68/100\n",
            "141/141 [==============================] - 37s 260ms/step - loss: 0.1744 - accuracy: 0.9481 - val_loss: 6.6703 - val_accuracy: 0.1545\n",
            "Epoch 69/100\n",
            "141/141 [==============================] - 37s 259ms/step - loss: 0.1950 - accuracy: 0.9441 - val_loss: 6.0971 - val_accuracy: 0.1679\n",
            "Epoch 70/100\n",
            "141/141 [==============================] - 37s 258ms/step - loss: 0.1705 - accuracy: 0.9473 - val_loss: 6.3927 - val_accuracy: 0.1688\n",
            "Epoch 71/100\n",
            "141/141 [==============================] - 37s 259ms/step - loss: 0.1676 - accuracy: 0.9499 - val_loss: 6.1967 - val_accuracy: 0.1607\n",
            "Epoch 72/100\n",
            "141/141 [==============================] - 37s 260ms/step - loss: 0.1889 - accuracy: 0.9397 - val_loss: 6.4623 - val_accuracy: 0.1607\n",
            "Epoch 73/100\n",
            "141/141 [==============================] - 37s 260ms/step - loss: 0.1806 - accuracy: 0.9470 - val_loss: 6.6938 - val_accuracy: 0.1598\n",
            "Epoch 74/100\n",
            "141/141 [==============================] - 36s 258ms/step - loss: 0.1483 - accuracy: 0.9550 - val_loss: 6.4815 - val_accuracy: 0.1679\n",
            "Epoch 75/100\n",
            "141/141 [==============================] - 36s 258ms/step - loss: 0.1531 - accuracy: 0.9568 - val_loss: 6.6713 - val_accuracy: 0.1679\n",
            "Epoch 76/100\n",
            "141/141 [==============================] - 37s 259ms/step - loss: 0.1722 - accuracy: 0.9504 - val_loss: 6.5341 - val_accuracy: 0.1598\n",
            "Epoch 77/100\n",
            "141/141 [==============================] - 37s 259ms/step - loss: 0.1557 - accuracy: 0.9535 - val_loss: 6.5524 - val_accuracy: 0.1554\n",
            "Epoch 78/100\n",
            "141/141 [==============================] - 37s 260ms/step - loss: 0.1413 - accuracy: 0.9555 - val_loss: 6.4361 - val_accuracy: 0.1607\n",
            "Epoch 79/100\n",
            "141/141 [==============================] - 37s 261ms/step - loss: 0.1512 - accuracy: 0.9559 - val_loss: 6.6559 - val_accuracy: 0.1679\n",
            "Epoch 80/100\n",
            "141/141 [==============================] - 37s 259ms/step - loss: 0.1455 - accuracy: 0.9552 - val_loss: 6.6786 - val_accuracy: 0.1688\n",
            "Epoch 81/100\n",
            "141/141 [==============================] - 36s 257ms/step - loss: 0.1487 - accuracy: 0.9539 - val_loss: 6.4147 - val_accuracy: 0.1795\n",
            "Epoch 82/100\n",
            "141/141 [==============================] - 36s 258ms/step - loss: 0.1438 - accuracy: 0.9557 - val_loss: 6.7635 - val_accuracy: 0.1688\n",
            "Epoch 83/100\n",
            "141/141 [==============================] - 37s 259ms/step - loss: 0.1396 - accuracy: 0.9605 - val_loss: 6.5161 - val_accuracy: 0.1705\n",
            "Epoch 84/100\n",
            "141/141 [==============================] - 37s 259ms/step - loss: 0.1373 - accuracy: 0.9595 - val_loss: 6.4900 - val_accuracy: 0.1804\n",
            "Epoch 85/100\n",
            "141/141 [==============================] - 36s 257ms/step - loss: 0.1284 - accuracy: 0.9632 - val_loss: 6.4651 - val_accuracy: 0.1839\n",
            "Epoch 86/100\n",
            "141/141 [==============================] - 36s 258ms/step - loss: 0.1264 - accuracy: 0.9637 - val_loss: 6.6060 - val_accuracy: 0.1750\n",
            "Epoch 87/100\n",
            "141/141 [==============================] - 37s 260ms/step - loss: 0.1295 - accuracy: 0.9581 - val_loss: 6.8630 - val_accuracy: 0.1634\n",
            "Epoch 88/100\n",
            "141/141 [==============================] - 37s 258ms/step - loss: 0.1251 - accuracy: 0.9637 - val_loss: 6.7372 - val_accuracy: 0.1893\n",
            "Epoch 89/100\n",
            "141/141 [==============================] - 36s 257ms/step - loss: 0.1467 - accuracy: 0.9566 - val_loss: 6.8682 - val_accuracy: 0.1768\n",
            "Epoch 90/100\n",
            "141/141 [==============================] - 36s 256ms/step - loss: 0.1210 - accuracy: 0.9639 - val_loss: 6.7322 - val_accuracy: 0.1795\n",
            "Epoch 91/100\n",
            "141/141 [==============================] - 37s 261ms/step - loss: 0.1173 - accuracy: 0.9645 - val_loss: 6.8598 - val_accuracy: 0.1777\n",
            "Epoch 92/100\n",
            "141/141 [==============================] - 37s 259ms/step - loss: 0.0999 - accuracy: 0.9670 - val_loss: 7.2684 - val_accuracy: 0.1821\n",
            "Epoch 93/100\n",
            "141/141 [==============================] - 37s 259ms/step - loss: 0.1054 - accuracy: 0.9688 - val_loss: 7.2375 - val_accuracy: 0.1741\n",
            "Epoch 94/100\n",
            "141/141 [==============================] - 36s 258ms/step - loss: 0.1219 - accuracy: 0.9652 - val_loss: 7.0530 - val_accuracy: 0.1768\n",
            "Epoch 95/100\n",
            "141/141 [==============================] - 37s 260ms/step - loss: 0.1295 - accuracy: 0.9601 - val_loss: 7.2722 - val_accuracy: 0.1714\n",
            "Epoch 96/100\n",
            "141/141 [==============================] - 36s 258ms/step - loss: 0.1304 - accuracy: 0.9555 - val_loss: 7.2381 - val_accuracy: 0.1527\n",
            "Epoch 97/100\n",
            "141/141 [==============================] - 36s 256ms/step - loss: 0.1169 - accuracy: 0.9656 - val_loss: 6.9645 - val_accuracy: 0.1688\n",
            "Epoch 98/100\n",
            "141/141 [==============================] - 36s 257ms/step - loss: 0.1033 - accuracy: 0.9708 - val_loss: 6.8273 - val_accuracy: 0.1750\n",
            "Epoch 99/100\n",
            "141/141 [==============================] - 36s 257ms/step - loss: 0.1023 - accuracy: 0.9708 - val_loss: 7.0487 - val_accuracy: 0.1688\n",
            "Epoch 100/100\n",
            "141/141 [==============================] - 36s 258ms/step - loss: 0.1295 - accuracy: 0.9630 - val_loss: 7.0903 - val_accuracy: 0.1679\n"
          ]
        },
        {
          "output_type": "execute_result",
          "data": {
            "text/plain": [
              "<keras.callbacks.History at 0x7f3c74274350>"
            ]
          },
          "metadata": {},
          "execution_count": 18
        }
      ]
    },
    {
      "cell_type": "code",
      "source": [
        "import tensorflow as tf\n",
        "\n",
        "import tensorflow.keras.layers as L\n",
        "\n",
        "import tensorflow.keras.backend as K\n",
        "from tensorflow.keras.models import Model\n",
        "\n",
        "from tensorflow.keras.applications import DenseNet121\n",
        "\n",
        "import seaborn as sns\n",
        "from tqdm import tqdm\n",
        "import matplotlib.cm as cm\n",
        "from sklearn import metrics\n",
        "import matplotlib.pyplot as plt\n",
        "from sklearn.utils import shuffle\n",
        "from sklearn.model_selection import train_test_split\n",
        "\n",
        "tqdm.pandas()\n",
        "import plotly.express as px\n",
        "import plotly.graph_objects as go\n",
        "import plotly.figure_factory as ff\n",
        "from plotly.subplots import make_subplots\n",
        "\n",
        "np.random.seed(0)\n",
        "tf.random.set_seed(0)\n",
        "\n",
        "import warnings\n",
        "warnings.filterwarnings(\"ignore\")"
      ],
      "metadata": {
        "id": "4f2MMp73xbzU"
      },
      "execution_count": null,
      "outputs": []
    },
    {
      "cell_type": "code",
      "source": [
        "model = tf.keras.Sequential([DenseNet121(input_shape=(200, 200, 3),\n",
        "                                             weights='imagenet',\n",
        "                                             include_top=False),\n",
        "                                 L.GlobalAveragePooling2D(),\n",
        "                                 L.Dense(85,\n",
        "                                         activation='softmax')])\n",
        "        \n",
        "model.compile(optimizer='adam',\n",
        "                  loss = 'categorical_crossentropy',\n",
        "                  metrics=['categorical_accuracy'])\n",
        "model.summary()"
      ],
      "metadata": {
        "colab": {
          "base_uri": "https://localhost:8080/"
        },
        "id": "qoZEdIy-wST-",
        "outputId": "528720a5-c18c-48bf-9a73-273d51f6e75e"
      },
      "execution_count": null,
      "outputs": [
        {
          "output_type": "stream",
          "name": "stdout",
          "text": [
            "Model: \"sequential_2\"\n",
            "_________________________________________________________________\n",
            " Layer (type)                Output Shape              Param #   \n",
            "=================================================================\n",
            " densenet121 (Functional)    (None, 6, 6, 1024)        7037504   \n",
            "                                                                 \n",
            " global_average_pooling2d_1   (None, 1024)             0         \n",
            " (GlobalAveragePooling2D)                                        \n",
            "                                                                 \n",
            " dense (Dense)               (None, 85)                87125     \n",
            "                                                                 \n",
            "=================================================================\n",
            "Total params: 7,124,629\n",
            "Trainable params: 7,040,981\n",
            "Non-trainable params: 83,648\n",
            "_________________________________________________________________\n"
          ]
        }
      ]
    },
    {
      "cell_type": "code",
      "source": [
        "from tensorflow.keras.optimizers import Adam\n",
        "import tensorflow.keras.optimizers as Optimizer\n",
        "model.compile( optimizer=Optimizer.Adam(lr=0.0001),loss='categorical_crossentropy', metrics=['accuracy'])"
      ],
      "metadata": {
        "id": "AfUKjy0WhpZA"
      },
      "execution_count": null,
      "outputs": []
    },
    {
      "cell_type": "code",
      "source": [
        "batch_size=128\n",
        "nb_epochs=100\n",
        "model.fit(\n",
        "    train_dataset,\n",
        "    steps_per_epoch = train_dataset.samples // batch_size,\n",
        "    validation_data = validation_dataset, \n",
        "    validation_steps = validation_dataset.samples // batch_size,\n",
        "    epochs = nb_epochs)"
      ],
      "metadata": {
        "colab": {
          "base_uri": "https://localhost:8080/"
        },
        "id": "OPpWjTljyVvM",
        "outputId": "509d5f17-c158-4ff2-8a83-29f4f660ac5c"
      },
      "execution_count": null,
      "outputs": [
        {
          "output_type": "stream",
          "name": "stdout",
          "text": [
            "Epoch 1/100\n",
            "141/141 [==============================] - 67s 370ms/step - loss: 3.7680 - accuracy: 0.1873 - val_loss: 3.0579 - val_accuracy: 0.2991\n",
            "Epoch 2/100\n",
            "141/141 [==============================] - 50s 350ms/step - loss: 2.2673 - accuracy: 0.4989 - val_loss: 1.9789 - val_accuracy: 0.5402\n",
            "Epoch 3/100\n",
            "141/141 [==============================] - 50s 351ms/step - loss: 1.6072 - accuracy: 0.6292 - val_loss: 1.6355 - val_accuracy: 0.5964\n",
            "Epoch 4/100\n",
            "141/141 [==============================] - 50s 351ms/step - loss: 1.2560 - accuracy: 0.7134 - val_loss: 1.4991 - val_accuracy: 0.6196\n",
            "Epoch 5/100\n",
            "141/141 [==============================] - 50s 350ms/step - loss: 1.0455 - accuracy: 0.7553 - val_loss: 1.2921 - val_accuracy: 0.6732\n",
            "Epoch 6/100\n",
            "141/141 [==============================] - 49s 348ms/step - loss: 0.8899 - accuracy: 0.8036 - val_loss: 1.3324 - val_accuracy: 0.6696\n",
            "Epoch 7/100\n",
            "141/141 [==============================] - 52s 370ms/step - loss: 0.7398 - accuracy: 0.8366 - val_loss: 1.1547 - val_accuracy: 0.7196\n",
            "Epoch 8/100\n",
            "141/141 [==============================] - 49s 347ms/step - loss: 0.6388 - accuracy: 0.8573 - val_loss: 1.1241 - val_accuracy: 0.7161\n",
            "Epoch 9/100\n",
            "141/141 [==============================] - 49s 349ms/step - loss: 0.5396 - accuracy: 0.8821 - val_loss: 1.0494 - val_accuracy: 0.7366\n",
            "Epoch 10/100\n",
            "141/141 [==============================] - 50s 350ms/step - loss: 0.4744 - accuracy: 0.8965 - val_loss: 1.0087 - val_accuracy: 0.7366\n",
            "Epoch 11/100\n",
            "141/141 [==============================] - 49s 348ms/step - loss: 0.3906 - accuracy: 0.9189 - val_loss: 0.9465 - val_accuracy: 0.7509\n",
            "Epoch 12/100\n",
            "141/141 [==============================] - 49s 349ms/step - loss: 0.3363 - accuracy: 0.9310 - val_loss: 1.0749 - val_accuracy: 0.7232\n",
            "Epoch 13/100\n",
            "141/141 [==============================] - 50s 350ms/step - loss: 0.3078 - accuracy: 0.9395 - val_loss: 0.9542 - val_accuracy: 0.7554\n",
            "Epoch 14/100\n",
            "141/141 [==============================] - 50s 350ms/step - loss: 0.2567 - accuracy: 0.9475 - val_loss: 0.8557 - val_accuracy: 0.7670\n",
            "Epoch 15/100\n",
            "141/141 [==============================] - 49s 349ms/step - loss: 0.2323 - accuracy: 0.9530 - val_loss: 0.8774 - val_accuracy: 0.7634\n",
            "Epoch 16/100\n",
            "141/141 [==============================] - 49s 348ms/step - loss: 0.1881 - accuracy: 0.9665 - val_loss: 0.9587 - val_accuracy: 0.7429\n",
            "Epoch 17/100\n",
            "141/141 [==============================] - 50s 350ms/step - loss: 0.1762 - accuracy: 0.9690 - val_loss: 0.9435 - val_accuracy: 0.7491\n",
            "Epoch 18/100\n",
            "141/141 [==============================] - 49s 347ms/step - loss: 0.1668 - accuracy: 0.9676 - val_loss: 0.9523 - val_accuracy: 0.7455\n",
            "Epoch 19/100\n",
            "141/141 [==============================] - 50s 351ms/step - loss: 0.1311 - accuracy: 0.9781 - val_loss: 0.9371 - val_accuracy: 0.7527\n",
            "Epoch 20/100\n",
            "141/141 [==============================] - 49s 347ms/step - loss: 0.1261 - accuracy: 0.9785 - val_loss: 0.9577 - val_accuracy: 0.7455\n",
            "Epoch 21/100\n",
            "141/141 [==============================] - 49s 348ms/step - loss: 0.0974 - accuracy: 0.9855 - val_loss: 0.9614 - val_accuracy: 0.7464\n",
            "Epoch 22/100\n",
            "141/141 [==============================] - 50s 350ms/step - loss: 0.0922 - accuracy: 0.9846 - val_loss: 0.9462 - val_accuracy: 0.7661\n",
            "Epoch 23/100\n",
            "141/141 [==============================] - 49s 349ms/step - loss: 0.0967 - accuracy: 0.9820 - val_loss: 0.9790 - val_accuracy: 0.7411\n",
            "Epoch 24/100\n",
            "141/141 [==============================] - 50s 350ms/step - loss: 0.0956 - accuracy: 0.9827 - val_loss: 0.9453 - val_accuracy: 0.7598\n",
            "Epoch 25/100\n",
            "141/141 [==============================] - 50s 350ms/step - loss: 0.0796 - accuracy: 0.9863 - val_loss: 0.9995 - val_accuracy: 0.7429\n",
            "Epoch 26/100\n",
            "141/141 [==============================] - 50s 350ms/step - loss: 0.0643 - accuracy: 0.9914 - val_loss: 0.9800 - val_accuracy: 0.7554\n",
            "Epoch 27/100\n",
            "141/141 [==============================] - 49s 346ms/step - loss: 0.0651 - accuracy: 0.9893 - val_loss: 0.9753 - val_accuracy: 0.7491\n",
            "Epoch 28/100\n",
            "141/141 [==============================] - 50s 351ms/step - loss: 0.0654 - accuracy: 0.9893 - val_loss: 0.9784 - val_accuracy: 0.7688\n",
            "Epoch 29/100\n",
            "141/141 [==============================] - 49s 349ms/step - loss: 0.0560 - accuracy: 0.9914 - val_loss: 0.9947 - val_accuracy: 0.7491\n",
            "Epoch 30/100\n",
            "141/141 [==============================] - 49s 349ms/step - loss: 0.0544 - accuracy: 0.9902 - val_loss: 1.0302 - val_accuracy: 0.7366\n",
            "Epoch 31/100\n",
            "141/141 [==============================] - 49s 349ms/step - loss: 0.0485 - accuracy: 0.9922 - val_loss: 0.9926 - val_accuracy: 0.7437\n",
            "Epoch 32/100\n",
            "141/141 [==============================] - 49s 349ms/step - loss: 0.0541 - accuracy: 0.9922 - val_loss: 1.1361 - val_accuracy: 0.7205\n",
            "Epoch 33/100\n",
            "141/141 [==============================] - 49s 347ms/step - loss: 0.0562 - accuracy: 0.9909 - val_loss: 1.1502 - val_accuracy: 0.7411\n",
            "Epoch 34/100\n",
            "141/141 [==============================] - 49s 348ms/step - loss: 0.0730 - accuracy: 0.9860 - val_loss: 1.1971 - val_accuracy: 0.7223\n",
            "Epoch 35/100\n",
            "141/141 [==============================] - 49s 347ms/step - loss: 0.0756 - accuracy: 0.9834 - val_loss: 1.1000 - val_accuracy: 0.7321\n",
            "Epoch 36/100\n",
            "141/141 [==============================] - 49s 349ms/step - loss: 0.0894 - accuracy: 0.9800 - val_loss: 1.1066 - val_accuracy: 0.7250\n",
            "Epoch 37/100\n",
            "141/141 [==============================] - 49s 350ms/step - loss: 0.0822 - accuracy: 0.9811 - val_loss: 1.0003 - val_accuracy: 0.7571\n",
            "Epoch 38/100\n",
            "141/141 [==============================] - 49s 350ms/step - loss: 0.0925 - accuracy: 0.9776 - val_loss: 1.2224 - val_accuracy: 0.7152\n",
            "Epoch 39/100\n",
            "141/141 [==============================] - 49s 347ms/step - loss: 0.0585 - accuracy: 0.9889 - val_loss: 1.0266 - val_accuracy: 0.7429\n",
            "Epoch 40/100\n",
            "141/141 [==============================] - 49s 350ms/step - loss: 0.0579 - accuracy: 0.9893 - val_loss: 1.0789 - val_accuracy: 0.7455\n",
            "Epoch 41/100\n",
            "141/141 [==============================] - 49s 348ms/step - loss: 0.0511 - accuracy: 0.9902 - val_loss: 0.9835 - val_accuracy: 0.7589\n",
            "Epoch 42/100\n",
            "141/141 [==============================] - 49s 349ms/step - loss: 0.0506 - accuracy: 0.9900 - val_loss: 0.9877 - val_accuracy: 0.7571\n",
            "Epoch 43/100\n",
            "141/141 [==============================] - 49s 347ms/step - loss: 0.0640 - accuracy: 0.9842 - val_loss: 1.0797 - val_accuracy: 0.7455\n",
            "Epoch 44/100\n",
            "141/141 [==============================] - 49s 349ms/step - loss: 0.0543 - accuracy: 0.9878 - val_loss: 1.0695 - val_accuracy: 0.7482\n",
            "Epoch 45/100\n",
            "141/141 [==============================] - 49s 347ms/step - loss: 0.0473 - accuracy: 0.9900 - val_loss: 1.1210 - val_accuracy: 0.7348\n",
            "Epoch 46/100\n",
            "141/141 [==============================] - 49s 348ms/step - loss: 0.0430 - accuracy: 0.9922 - val_loss: 1.1027 - val_accuracy: 0.7402\n",
            "Epoch 47/100\n",
            "141/141 [==============================] - 50s 350ms/step - loss: 0.0439 - accuracy: 0.9916 - val_loss: 1.0553 - val_accuracy: 0.7536\n",
            "Epoch 48/100\n",
            "141/141 [==============================] - 49s 349ms/step - loss: 0.0620 - accuracy: 0.9851 - val_loss: 1.0696 - val_accuracy: 0.7366\n",
            "Epoch 49/100\n",
            "141/141 [==============================] - 50s 350ms/step - loss: 0.0513 - accuracy: 0.9896 - val_loss: 1.1951 - val_accuracy: 0.7286\n",
            "Epoch 50/100\n",
            "141/141 [==============================] - 49s 348ms/step - loss: 0.0405 - accuracy: 0.9920 - val_loss: 1.0826 - val_accuracy: 0.7473\n",
            "Epoch 51/100\n",
            "141/141 [==============================] - 50s 350ms/step - loss: 0.0481 - accuracy: 0.9889 - val_loss: 1.2001 - val_accuracy: 0.7312\n",
            "Epoch 52/100\n",
            "141/141 [==============================] - 50s 351ms/step - loss: 0.0551 - accuracy: 0.9863 - val_loss: 1.2051 - val_accuracy: 0.7348\n",
            "Epoch 53/100\n",
            "141/141 [==============================] - 50s 350ms/step - loss: 0.0525 - accuracy: 0.9880 - val_loss: 1.3134 - val_accuracy: 0.6902\n",
            "Epoch 54/100\n",
            "141/141 [==============================] - 50s 351ms/step - loss: 0.0467 - accuracy: 0.9896 - val_loss: 1.0501 - val_accuracy: 0.7455\n",
            "Epoch 55/100\n",
            "141/141 [==============================] - 50s 350ms/step - loss: 0.0384 - accuracy: 0.9911 - val_loss: 1.1762 - val_accuracy: 0.7384\n",
            "Epoch 56/100\n",
            "141/141 [==============================] - 49s 348ms/step - loss: 0.0442 - accuracy: 0.9900 - val_loss: 1.1058 - val_accuracy: 0.7500\n",
            "Epoch 57/100\n",
            "141/141 [==============================] - 49s 349ms/step - loss: 0.0459 - accuracy: 0.9902 - val_loss: 1.1429 - val_accuracy: 0.7348\n",
            "Epoch 58/100\n",
            "141/141 [==============================] - 49s 348ms/step - loss: 0.0455 - accuracy: 0.9887 - val_loss: 1.1215 - val_accuracy: 0.7312\n",
            "Epoch 59/100\n",
            "141/141 [==============================] - 50s 351ms/step - loss: 0.0368 - accuracy: 0.9931 - val_loss: 1.1037 - val_accuracy: 0.7527\n",
            "Epoch 60/100\n",
            "141/141 [==============================] - 49s 347ms/step - loss: 0.0318 - accuracy: 0.9927 - val_loss: 1.2089 - val_accuracy: 0.7366\n",
            "Epoch 61/100\n",
            "141/141 [==============================] - 50s 350ms/step - loss: 0.0388 - accuracy: 0.9915 - val_loss: 1.2443 - val_accuracy: 0.7241\n",
            "Epoch 62/100\n",
            "141/141 [==============================] - 49s 348ms/step - loss: 0.0358 - accuracy: 0.9913 - val_loss: 1.0617 - val_accuracy: 0.7571\n",
            "Epoch 63/100\n",
            "141/141 [==============================] - 49s 349ms/step - loss: 0.0402 - accuracy: 0.9900 - val_loss: 1.1672 - val_accuracy: 0.7455\n",
            "Epoch 64/100\n",
            "141/141 [==============================] - 49s 350ms/step - loss: 0.0562 - accuracy: 0.9853 - val_loss: 1.2802 - val_accuracy: 0.7232\n",
            "Epoch 65/100\n",
            "141/141 [==============================] - 50s 350ms/step - loss: 0.0506 - accuracy: 0.9889 - val_loss: 1.0994 - val_accuracy: 0.7429\n",
            "Epoch 66/100\n",
            "141/141 [==============================] - 49s 349ms/step - loss: 0.0438 - accuracy: 0.9898 - val_loss: 1.1704 - val_accuracy: 0.7393\n",
            "Epoch 67/100\n",
            "141/141 [==============================] - 49s 348ms/step - loss: 0.0415 - accuracy: 0.9900 - val_loss: 1.1624 - val_accuracy: 0.7393\n",
            "Epoch 68/100\n",
            "141/141 [==============================] - 50s 350ms/step - loss: 0.0459 - accuracy: 0.9880 - val_loss: 1.1213 - val_accuracy: 0.7411\n",
            "Epoch 69/100\n",
            "141/141 [==============================] - 49s 348ms/step - loss: 0.0432 - accuracy: 0.9894 - val_loss: 1.0862 - val_accuracy: 0.7411\n",
            "Epoch 70/100\n",
            "141/141 [==============================] - 50s 350ms/step - loss: 0.0484 - accuracy: 0.9878 - val_loss: 1.1571 - val_accuracy: 0.7500\n",
            "Epoch 71/100\n",
            "141/141 [==============================] - 49s 347ms/step - loss: 0.0440 - accuracy: 0.9904 - val_loss: 1.0276 - val_accuracy: 0.7580\n",
            "Epoch 72/100\n",
            "141/141 [==============================] - 49s 349ms/step - loss: 0.0333 - accuracy: 0.9927 - val_loss: 1.0416 - val_accuracy: 0.7509\n",
            "Epoch 73/100\n",
            "141/141 [==============================] - 50s 352ms/step - loss: 0.0371 - accuracy: 0.9898 - val_loss: 1.1810 - val_accuracy: 0.7455\n",
            "Epoch 74/100\n",
            "141/141 [==============================] - 50s 350ms/step - loss: 0.0346 - accuracy: 0.9922 - val_loss: 1.1475 - val_accuracy: 0.7545\n",
            "Epoch 75/100\n",
            "141/141 [==============================] - 50s 353ms/step - loss: 0.0412 - accuracy: 0.9885 - val_loss: 1.1880 - val_accuracy: 0.7411\n",
            "Epoch 76/100\n",
            "141/141 [==============================] - 49s 350ms/step - loss: 0.0325 - accuracy: 0.9907 - val_loss: 0.9840 - val_accuracy: 0.7804\n",
            "Epoch 77/100\n",
            "141/141 [==============================] - 49s 349ms/step - loss: 0.0283 - accuracy: 0.9940 - val_loss: 1.0557 - val_accuracy: 0.7643\n",
            "Epoch 78/100\n",
            "141/141 [==============================] - 50s 351ms/step - loss: 0.0316 - accuracy: 0.9922 - val_loss: 1.1616 - val_accuracy: 0.7330\n",
            "Epoch 79/100\n",
            "141/141 [==============================] - 49s 347ms/step - loss: 0.0293 - accuracy: 0.9934 - val_loss: 1.2488 - val_accuracy: 0.7384\n",
            "Epoch 80/100\n",
            "141/141 [==============================] - 50s 351ms/step - loss: 0.0275 - accuracy: 0.9925 - val_loss: 1.1834 - val_accuracy: 0.7437\n",
            "Epoch 81/100\n",
            "141/141 [==============================] - 50s 350ms/step - loss: 0.0274 - accuracy: 0.9934 - val_loss: 1.4062 - val_accuracy: 0.7027\n",
            "Epoch 82/100\n",
            "141/141 [==============================] - 49s 347ms/step - loss: 0.0311 - accuracy: 0.9911 - val_loss: 1.4228 - val_accuracy: 0.7089\n",
            "Epoch 83/100\n",
            "141/141 [==============================] - 49s 350ms/step - loss: 0.0404 - accuracy: 0.9898 - val_loss: 1.2517 - val_accuracy: 0.7429\n",
            "Epoch 84/100\n",
            "141/141 [==============================] - 49s 349ms/step - loss: 0.0379 - accuracy: 0.9900 - val_loss: 1.4218 - val_accuracy: 0.7089\n",
            "Epoch 85/100\n",
            "141/141 [==============================] - 50s 351ms/step - loss: 0.0392 - accuracy: 0.9887 - val_loss: 1.1781 - val_accuracy: 0.7509\n",
            "Epoch 86/100\n",
            "141/141 [==============================] - 49s 347ms/step - loss: 0.0369 - accuracy: 0.9914 - val_loss: 1.1867 - val_accuracy: 0.7607\n",
            "Epoch 87/100\n",
            "141/141 [==============================] - 50s 350ms/step - loss: 0.0279 - accuracy: 0.9951 - val_loss: 1.1709 - val_accuracy: 0.7482\n",
            "Epoch 88/100\n",
            "141/141 [==============================] - 49s 349ms/step - loss: 0.0254 - accuracy: 0.9944 - val_loss: 1.1169 - val_accuracy: 0.7545\n",
            "Epoch 89/100\n",
            "141/141 [==============================] - 50s 350ms/step - loss: 0.0266 - accuracy: 0.9938 - val_loss: 1.1303 - val_accuracy: 0.7518\n"
          ]
        }
      ]
    }
  ]
}